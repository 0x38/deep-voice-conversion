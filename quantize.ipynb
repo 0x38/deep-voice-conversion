{
 "cells": [
  {
   "cell_type": "code",
   "execution_count": 74,
   "metadata": {
    "collapsed": true
   },
   "outputs": [],
   "source": [
    "import numpy as np\n",
    "import matplotlib.pyplot as plt\n",
    "from collections import Counter\n",
    "%matplotlib inline"
   ]
  },
  {
   "cell_type": "markdown",
   "metadata": {},
   "source": [
    "### binning"
   ]
  },
  {
   "cell_type": "code",
   "execution_count": 41,
   "metadata": {},
   "outputs": [],
   "source": [
    "X = np.random.uniform(0, 1000, size=(80, 100)) # pseudo-mel"
   ]
  },
  {
   "cell_type": "code",
   "execution_count": 66,
   "metadata": {},
   "outputs": [],
   "source": [
    "bins = np.logspace(np.log10(1e-8), np.log10(1000), 99, base=10)"
   ]
  },
  {
   "cell_type": "code",
   "execution_count": 68,
   "metadata": {},
   "outputs": [
    {
     "data": {
      "text/plain": [
       "(80, 100)"
      ]
     },
     "execution_count": 68,
     "metadata": {},
     "output_type": "execute_result"
    }
   ],
   "source": [
    "quant = np.digitize(X, bins).astype(np.int32)\n",
    "quant.shape"
   ]
  },
  {
   "cell_type": "code",
   "execution_count": 76,
   "metadata": {},
   "outputs": [
    {
     "data": {
      "text/plain": [
       "Counter({67: 1,\n",
       "         68: 1,\n",
       "         69: 2,\n",
       "         70: 1,\n",
       "         71: 1,\n",
       "         72: 2,\n",
       "         73: 1,\n",
       "         74: 3,\n",
       "         75: 4,\n",
       "         76: 5,\n",
       "         77: 13,\n",
       "         78: 9,\n",
       "         79: 15,\n",
       "         80: 13,\n",
       "         81: 17,\n",
       "         82: 33,\n",
       "         83: 41,\n",
       "         84: 47,\n",
       "         85: 98,\n",
       "         86: 76,\n",
       "         87: 99,\n",
       "         88: 138,\n",
       "         89: 191,\n",
       "         90: 227,\n",
       "         91: 296,\n",
       "         92: 376,\n",
       "         93: 544,\n",
       "         94: 621,\n",
       "         95: 836,\n",
       "         96: 1046,\n",
       "         97: 1411,\n",
       "         98: 1832})"
      ]
     },
     "execution_count": 76,
     "metadata": {},
     "output_type": "execute_result"
    }
   ],
   "source": [
    "val2cnt = Counter(quant.flatten())\n",
    "val2cnt"
   ]
  },
  {
   "cell_type": "markdown",
   "metadata": {},
   "source": [
    "### de-binning"
   ]
  },
  {
   "cell_type": "code",
   "execution_count": 69,
   "metadata": {
    "collapsed": true
   },
   "outputs": [],
   "source": [
    "bins_ = np.append(bins, bins[-1])"
   ]
  },
  {
   "cell_type": "code",
   "execution_count": 70,
   "metadata": {},
   "outputs": [
    {
     "data": {
      "text/plain": [
       "(80, 100)"
      ]
     },
     "execution_count": 70,
     "metadata": {},
     "output_type": "execute_result"
    }
   ],
   "source": [
    "restored = bins_[quant]\n",
    "restored.shape"
   ]
  },
  {
   "cell_type": "code",
   "execution_count": 77,
   "metadata": {},
   "outputs": [
    {
     "data": {
      "text/plain": [
       "Counter({0.33144247494664247: 1,\n",
       "         0.42919342601287785: 1,\n",
       "         0.55577365864868811: 2,\n",
       "         0.71968567300115138: 1,\n",
       "         0.93193957623407753: 1,\n",
       "         1.2067926406393263: 2,\n",
       "         1.5627069765469963: 1,\n",
       "         2.0235896477251556: 3,\n",
       "         2.6203985288583542: 4,\n",
       "         3.3932217718953299: 5,\n",
       "         4.3939705607607857: 13,\n",
       "         5.6898660290183045: 9,\n",
       "         7.3679545596616292: 15,\n",
       "         9.5409547634999239: 13,\n",
       "         12.354828882567482: 17,\n",
       "         15.998587196060573: 33,\n",
       "         20.716983998953033: 41,\n",
       "         26.826957952797272: 47,\n",
       "         34.738921120831122: 98,\n",
       "         44.984326689694534: 76,\n",
       "         58.251367124689267: 99,\n",
       "         75.431200633546069: 138,\n",
       "         97.677811008949021: 191,\n",
       "         126.48552168552958: 227,\n",
       "         163.78937069540612: 296,\n",
       "         212.09508879201925: 376,\n",
       "         274.64741148160505: 544,\n",
       "         355.64803062231357: 621,\n",
       "         460.53782558224168: 836,\n",
       "         596.36233165946362: 1046,\n",
       "         772.24499458362698: 1411,\n",
       "         1000.0: 1832})"
      ]
     },
     "execution_count": 77,
     "metadata": {},
     "output_type": "execute_result"
    }
   ],
   "source": [
    "val2cnt = Counter(restored.flatten())\n",
    "val2cnt"
   ]
  },
  {
   "cell_type": "code",
   "execution_count": 72,
   "metadata": {},
   "outputs": [
    {
     "data": {
      "text/plain": [
       "[<matplotlib.lines.Line2D at 0x111faa650>]"
      ]
     },
     "execution_count": 72,
     "metadata": {},
     "output_type": "execute_result"
    },
    {
     "data": {
      "image/png": "[encoded data removed]",
      "text/plain": [
       "<matplotlib.figure.Figure at 0x111d91510>"
      ]
     },
     "metadata": {},
     "output_type": "display_data"
    }
   ],
   "source": [
    "plt.plot(X.flatten()[:10], c=\"r\")\n",
    "plt.plot(restored.flatten()[:10], c=\"b\")"
   ]
  },
  {
   "cell_type": "code",
   "execution_count": null,
   "metadata": {
    "collapsed": true
   },
   "outputs": [],
   "source": [
    ""
   ]
  }
 ],
 "metadata": {
  "kernelspec": {
   "display_name": "Python 2",
   "language": "python",
   "name": "python2"
  },
  "language_info": {
   "codemirror_mode": {
    "name": "ipython",
    "version": 2.0
   },
   "file_extension": ".py",
   "mimetype": "text/x-python",
   "name": "python",
   "nbconvert_exporter": "python",
   "pygments_lexer": "ipython2",
   "version": "2.7.10"
  }
 },
 "nbformat": 4,
 "nbformat_minor": 0
}